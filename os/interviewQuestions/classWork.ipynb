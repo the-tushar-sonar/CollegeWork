{
  "nbformat": 4,
  "nbformat_minor": 0,
  "metadata": {
    "colab": {
      "provenance": [],
      "include_colab_link": true
    },
    "kernelspec": {
      "name": "python3",
      "display_name": "Python 3"
    },
    "language_info": {
      "name": "python"
    }
  },
  "cells": [
    {
      "cell_type": "markdown",
      "metadata": {
        "id": "view-in-github",
        "colab_type": "text"
      },
      "source": [
        "<a href=\"https://colab.research.google.com/github/the-tushar-sonar/CollegeWork/blob/main/classWork.ipynb\" target=\"_parent\"><img src=\"https://colab.research.google.com/assets/colab-badge.svg\" alt=\"Open In Colab\"/></a>"
      ]
    },
    {
      "cell_type": "markdown",
      "source": [
        "# **Interview Questions Part -2**"
      ],
      "metadata": {
        "id": "OFMhcbQ4Knv3"
      }
    },
    {
      "cell_type": "markdown",
      "source": [
        "## **Question 1**\n",
        "\n",
        "\n",
        "###Given an array arr[] containing only non-negative integers, your task is to find a continuous subarray (a contiguous sequence of elements) whose sum equals a specified value target. You need to return the 1-based indices of the leftmost and rightmost elements of this subarray. You need to find the first subarray whose sum is equal to the target.\n",
        "\n",
        "###*Note: If no such array is possible then, return [-1].*\n",
        "\n",
        "\n",
        "\n"
      ],
      "metadata": {
        "id": "j09vthH0LGGG"
      }
    },
    {
      "cell_type": "code",
      "source": [
        "%%writefile subArrSum.cpp\n",
        "#include <bits/stdc++.h>\n",
        "using namespace std;\n",
        "\n",
        "vector<int> subarraySum(vector<int> &arr, int target) {\n",
        "    int n = arr.size();\n",
        "    int start = 0, sum = 0;\n",
        "\n",
        "    for (int end = 0; end < n; end++) {\n",
        "        sum += arr[end];\n",
        "\n",
        "        // shrink from left if sum > target\n",
        "        while (sum > target && start < end) {\n",
        "            sum -= arr[start];\n",
        "            start++;\n",
        "        }\n",
        "\n",
        "        if (sum == target) {\n",
        "            return {start + 1, end + 1};  // 1-based indices\n",
        "        }\n",
        "    }\n",
        "    return {-1};\n",
        "}\n",
        "\n",
        "int main() {\n",
        "    vector<int> arr1 = {1, 2, 3, 4, 5};\n",
        "    int target1 = 12;\n",
        "\n",
        "    vector<int> arr2 = {1, 2, 3, 4, 5, 6, 7, 8, 9, 10};\n",
        "    int target2 = 15;\n",
        "\n",
        "    vector<int> result1 = subarraySum(arr1, target1);\n",
        "    for (int x : result1) cout << x << \" \";\n",
        "    cout << endl;\n",
        "\n",
        "    vector<int> result2 = subarraySum(arr2, target2);\n",
        "    for (int x : result2) cout << x << \" \";\n",
        "    cout << endl;\n",
        "\n",
        "    return 0;\n",
        "}\n"
      ],
      "metadata": {
        "colab": {
          "base_uri": "https://localhost:8080/"
        },
        "id": "Wq4dT1FxycA_",
        "outputId": "455e1ad8-1ba7-4f52-c5de-cd4a6e84e7e5"
      },
      "execution_count": null,
      "outputs": [
        {
          "output_type": "stream",
          "name": "stdout",
          "text": [
            "Overwriting subArrSum.cpp\n"
          ]
        }
      ]
    },
    {
      "cell_type": "code",
      "source": [
        "!g++ -o subArrSum subArrSum.cpp && ./subArrSum"
      ],
      "metadata": {
        "colab": {
          "base_uri": "https://localhost:8080/"
        },
        "id": "X3m0dlGlzOik",
        "outputId": "db1629fa-f2c9-4694-b069-9f6ddc53ab66"
      },
      "execution_count": null,
      "outputs": [
        {
          "output_type": "stream",
          "name": "stdout",
          "text": [
            "3 5 \n",
            "1 5 \n"
          ]
        }
      ]
    },
    {
      "cell_type": "markdown",
      "source": [
        "## **Question 2**\n",
        "\n",
        "\n",
        "###   You are given an array arr[] of size n - 1 that contains distinct integers in the range from 1 to n (inclusive). This array represents a permutation of the integers from 1 to n with one element missing. Your task is to identify and return the missing element."
      ],
      "metadata": {
        "id": "raVNKXsfNFOX"
      }
    },
    {
      "cell_type": "markdown",
      "source": [],
      "metadata": {
        "id": "0Bk29xBrM-H3"
      }
    },
    {
      "cell_type": "code",
      "source": [
        "%%writefile findMissing.cpp\n",
        "#include <bits/stdc++.h>\n",
        "using namespace std;\n",
        "\n",
        "int findMissing(vector<int> &arr) {\n",
        "    int n = arr.size() + 1;   // since one number is missing\n",
        "    int totalSum = n * (n + 1) / 2;\n",
        "    int arrSum = 0;\n",
        "    for (int num : arr) {\n",
        "        arrSum += num;\n",
        "    }\n",
        "    return totalSum - arrSum;\n",
        "}\n",
        "\n",
        "int main() {\n",
        "    vector<int> arr1 = {1, 2, 3, 5};\n",
        "    cout << findMissing(arr1) << endl;\n",
        "\n",
        "    vector<int> arr2 = {8, 2, 4, 5, 3, 7, 1};\n",
        "    cout << findMissing(arr2) << endl;\n",
        "\n",
        "    vector<int> arr3 = {1};\n",
        "    cout << findMissing(arr3) << endl;\n",
        "\n",
        "    return 0;\n",
        "}\n"
      ],
      "metadata": {
        "colab": {
          "base_uri": "https://localhost:8080/"
        },
        "id": "vTn-cRac3Js9",
        "outputId": "8f41ed67-1fb0-4f7f-ea8d-5d54a22ce2e2"
      },
      "execution_count": null,
      "outputs": [
        {
          "output_type": "stream",
          "name": "stdout",
          "text": [
            "Overwriting findMissing.cpp\n"
          ]
        }
      ]
    },
    {
      "cell_type": "code",
      "source": [
        "!g++ -o findMissing findMissing.cpp && ./findMissing"
      ],
      "metadata": {
        "colab": {
          "base_uri": "https://localhost:8080/"
        },
        "id": "uVbhZ_BM436d",
        "outputId": "8d339c9b-bc51-4862-b901-18060183313a"
      },
      "execution_count": null,
      "outputs": [
        {
          "output_type": "stream",
          "name": "stdout",
          "text": [
            "4\n",
            "6\n",
            "2\n"
          ]
        }
      ]
    },
    {
      "cell_type": "markdown",
      "source": [
        "##**Question 3**\n",
        "###Given an array of positive integers arr[], return the second largest element from the array. If the second largest element doesn't exist then return -1.\n",
        "\n",
        "###*Note: The second largest element should not be equal to the largest element.*"
      ],
      "metadata": {
        "id": "Uf1Zg8ABNoTP"
      }
    },
    {
      "cell_type": "code",
      "source": [
        "%%writefile secondLargest.cpp\n",
        "#include <bits/stdc++.h>\n",
        "using namespace std;\n",
        "\n",
        "int secondLargest(vector<int> &arr) {\n",
        "    int first = -1, second = -1;\n",
        "\n",
        "    for (int num : arr) {\n",
        "        if (num > first) {\n",
        "            second = first;\n",
        "            first = num;\n",
        "        } else if (num < first && num > second) {\n",
        "            second = num;\n",
        "        }\n",
        "    }\n",
        "\n",
        "    return second;\n",
        "}\n",
        "\n",
        "int main() {\n",
        "    vector<int> arr1 = {12, 35, 1, 10, 34, 1};\n",
        "    cout << secondLargest(arr1) << endl;\n",
        "\n",
        "    vector<int> arr2 = {10, 5, 10};\n",
        "    cout << secondLargest(arr2) << endl;\n",
        "\n",
        "    vector<int> arr3 = {10, 10, 10};\n",
        "    cout << secondLargest(arr3) << endl;\n",
        "    return 0;\n",
        "}\n"
      ],
      "metadata": {
        "colab": {
          "base_uri": "https://localhost:8080/"
        },
        "id": "yplzv0EO52HE",
        "outputId": "32a3f8a8-3f4b-4c08-ae86-195a26babe19"
      },
      "execution_count": null,
      "outputs": [
        {
          "output_type": "stream",
          "name": "stdout",
          "text": [
            "Overwriting secondLargest.cpp\n"
          ]
        }
      ]
    },
    {
      "cell_type": "code",
      "source": [
        "!g++ -o secondLargest secondLargest.cpp && ./secondLargest"
      ],
      "metadata": {
        "colab": {
          "base_uri": "https://localhost:8080/"
        },
        "id": "r-SgIRk69PS2",
        "outputId": "44d0fd69-07e3-4b6d-9173-f92aea4ebceb"
      },
      "execution_count": null,
      "outputs": [
        {
          "output_type": "stream",
          "name": "stdout",
          "text": [
            "34\n",
            "5\n",
            "-1\n"
          ]
        }
      ]
    },
    {
      "cell_type": "markdown",
      "source": [
        "## **Question 4 - Kadane's Algorithm**\n",
        "### You are given an integer array arr[]. You need to find the maximum sum of a subarray (containing at least one element) in the array arr[].\n",
        "\n",
        "\n",
        "### *Note : A subarray is a continuous part of an array.*"
      ],
      "metadata": {
        "id": "VrnyysaYObkW"
      }
    },
    {
      "cell_type": "code",
      "source": [
        "%%writefile maxSubArrSum.cpp\n",
        "#include <bits/stdc++.h>\n",
        "using namespace std;\n",
        "\n",
        "int maxSubArrSum(vector<int> &arr) {\n",
        "    int current_sum = arr[0];\n",
        "    int max_sum = arr[0];\n",
        "\n",
        "    for (int i = 1; i < arr.size(); i++) {\n",
        "        current_sum = max(arr[i], current_sum + arr[i]); // extend or restart\n",
        "        max_sum = max(max_sum, current_sum);\n",
        "    }\n",
        "\n",
        "    return max_sum;\n",
        "}\n",
        "\n",
        "int main() {\n",
        "    vector<int> arr1 = {2, 3, -8, 7, -1, 2, 3};\n",
        "    cout << maxSubArrSum(arr1) << endl;\n",
        "\n",
        "    vector<int> arr2 = {-2, -4};\n",
        "    cout << maxSubArrSum(arr2) << endl;\n",
        "\n",
        "    vector<int> arr3 = {5, 4, 1, 7, 8};\n",
        "    cout << maxSubArrSum(arr3) << endl;\n",
        "    return 0;\n",
        "}\n"
      ],
      "metadata": {
        "colab": {
          "base_uri": "https://localhost:8080/"
        },
        "id": "CrZ6rCCn-ELk",
        "outputId": "c3db0126-2c05-40fa-acb0-c240a4ccb324"
      },
      "execution_count": null,
      "outputs": [
        {
          "output_type": "stream",
          "name": "stdout",
          "text": [
            "Overwriting maxSubArrSum.cpp\n"
          ]
        }
      ]
    },
    {
      "cell_type": "code",
      "source": [
        "!g++ -o maxSubArrSum maxSubArrSum.cpp && ./maxSubArrSum"
      ],
      "metadata": {
        "colab": {
          "base_uri": "https://localhost:8080/"
        },
        "id": "JGHyaUQzEb_F",
        "outputId": "4df728fd-9b46-4a26-b3ed-f863ea4596cf"
      },
      "execution_count": null,
      "outputs": [
        {
          "output_type": "stream",
          "name": "stdout",
          "text": [
            "11\n",
            "-2\n",
            "25\n"
          ]
        }
      ]
    },
    {
      "cell_type": "markdown",
      "source": [
        "## **Question 5 - Minimize the Heights II**\n",
        "### Given an array arr[] denoting heights of n towers and a positive integer k.\n",
        "### For each tower, you must perform exactly one of the following operations exactly once.\n",
        "\n",
        "### Increase the height of the tower by kDecrease the height of the tower by k\n",
        "### Find out the minimum possible difference between the height of the shortest and tallest towers after you have modified each tower.\n",
        "\n",
        "### *Note: It is compulsory to increase or decrease the height by k for each tower. After the operation, the resultant array should not contain any negative integers.*"
      ],
      "metadata": {
        "id": "jfWZIo4tPDqP"
      }
    },
    {
      "cell_type": "code",
      "source": [
        "%%writefile getMinDiff.cpp\n",
        "#include <bits/stdc++.h>\n",
        "using namespace std;\n",
        "\n",
        "int getMinDiff(vector<int> &arr, int k) {\n",
        "    int n = arr.size();\n",
        "    if (n == 1) return 0;\n",
        "\n",
        "    sort(arr.begin(), arr.end());\n",
        "\n",
        "    int result = arr[n-1] - arr[0]; // initial difference\n",
        "\n",
        "    int smallest = arr[0] + k;\n",
        "    int largest = arr[n-1] - k;\n",
        "\n",
        "    for (int i = 0; i < n-1; i++) {\n",
        "        int min_height = min(smallest, arr[i+1] - k);\n",
        "        int max_height = max(largest, arr[i] + k);\n",
        "\n",
        "        if (min_height < 0) continue; // skip negative heights\n",
        "\n",
        "        result = min(result, max_height - min_height);\n",
        "    }\n",
        "\n",
        "    return result;\n",
        "}\n",
        "\n",
        "int main() {\n",
        "    vector<int> arr1 = {1, 5, 8, 10};\n",
        "    int k1 = 2;\n",
        "    cout << getMinDiff(arr1, k1) << endl;\n",
        "\n",
        "    vector<int> arr2 = {3, 9, 12, 16, 20};\n",
        "    int k2 = 3;\n",
        "    cout << getMinDiff(arr2, k2) << endl;\n",
        "\n",
        "    return 0;\n",
        "}\n"
      ],
      "metadata": {
        "colab": {
          "base_uri": "https://localhost:8080/"
        },
        "id": "QQ_xf0cyFzZL",
        "outputId": "8cc671de-3ec4-4b21-e5a6-404dbd59694c"
      },
      "execution_count": null,
      "outputs": [
        {
          "output_type": "stream",
          "name": "stdout",
          "text": [
            "Overwriting getMinDiff.cpp\n"
          ]
        }
      ]
    },
    {
      "cell_type": "code",
      "source": [
        "!g++ -o getMinDiff getMinDiff.cpp && ./getMinDiff"
      ],
      "metadata": {
        "colab": {
          "base_uri": "https://localhost:8080/"
        },
        "id": "IeEmXPhcKMnf",
        "outputId": "45031730-358d-47d5-88fd-8f2aa36fab6a"
      },
      "execution_count": null,
      "outputs": [
        {
          "output_type": "stream",
          "name": "stdout",
          "text": [
            "5\n",
            "11\n"
          ]
        }
      ]
    }
  ]
}